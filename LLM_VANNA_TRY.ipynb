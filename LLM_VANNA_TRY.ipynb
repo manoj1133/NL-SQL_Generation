{
 "cells": [
  {
   "cell_type": "code",
   "execution_count": 1,
   "id": "9ef8f591",
   "metadata": {},
   "outputs": [],
   "source": [
    "import warnings\n",
    "warnings.filterwarnings(\"ignore\", message=\"numpy.dtype size changed\")\n",
    "warnings.filterwarnings(\"ignore\", message=\"numpy.ufunc size changed\")"
   ]
  },
  {
   "cell_type": "code",
   "execution_count": 2,
   "id": "31a4b17f",
   "metadata": {},
   "outputs": [],
   "source": [
    "from vanna.ollama import Ollama\n",
    "from vanna.chromadb import ChromaDB_VectorStore"
   ]
  },
  {
   "cell_type": "code",
   "execution_count": 3,
   "id": "692bd9ef",
   "metadata": {},
   "outputs": [],
   "source": [
    "class MyVanna(ChromaDB_VectorStore,Ollama):\n",
    "    def __init__(self,config=None):\n",
    "        ChromaDB_VectorStore.__init__(self, config=config)\n",
    "        Ollama.__init__(self, config=config)\n",
    "\n",
    "vn = MyVanna(config={'model':'llama3.1'})"
   ]
  },
  {
   "cell_type": "code",
   "execution_count": 4,
   "id": "0a328c84",
   "metadata": {},
   "outputs": [],
   "source": [
    "vn.connect_to_sqlite('olist.sqlite')"
   ]
  },
  {
   "cell_type": "markdown",
   "id": "f450d6e6",
   "metadata": {},
   "source": [
    "## Training"
   ]
  },
  {
   "cell_type": "code",
   "execution_count": 5,
   "id": "dbfb5a3e",
   "metadata": {},
   "outputs": [
    {
     "name": "stdout",
     "output_type": "stream",
     "text": [
      "Adding ddl: CREATE TABLE \"product_category_name_translation\" (\n",
      "\"product_category_name\" TEXT,\n",
      "  \"product_category_name_english\" TEXT\n",
      ")\n"
     ]
    },
    {
     "name": "stderr",
     "output_type": "stream",
     "text": [
      "Add of existing embedding ID: 2132c80d-07a5-53e8-adf5-f9564f042130-ddl\n",
      "Insert of existing embedding ID: 2132c80d-07a5-53e8-adf5-f9564f042130-ddl\n",
      "Add of existing embedding ID: d14c24c1-1f4e-5060-a169-994fa192ed9d-ddl\n",
      "Insert of existing embedding ID: d14c24c1-1f4e-5060-a169-994fa192ed9d-ddl\n"
     ]
    },
    {
     "name": "stdout",
     "output_type": "stream",
     "text": [
      "Adding ddl: CREATE TABLE \"sellers\" (\n",
      "\"seller_id\" TEXT,\n",
      "  \"seller_zip_code_prefix\" INTEGER,\n",
      "  \"seller_city\" TEXT,\n",
      "  \"seller_state\" TEXT\n",
      ")\n",
      "Adding ddl: CREATE TABLE \"customers\" (\n",
      "\"customer_id\" TEXT,\n",
      "  \"customer_unique_id\" TEXT,\n",
      "  \"customer_zip_code_prefix\" INTEGER,\n",
      "  \"customer_city\" TEXT,\n",
      "  \"customer_state\" TEXT\n",
      ")\n"
     ]
    },
    {
     "name": "stderr",
     "output_type": "stream",
     "text": [
      "Add of existing embedding ID: b6c9016c-e2ab-5aea-a11d-1864b700f785-ddl\n",
      "Insert of existing embedding ID: b6c9016c-e2ab-5aea-a11d-1864b700f785-ddl\n",
      "Add of existing embedding ID: 48aae275-6e5d-527b-b7bd-4f174b991326-ddl\n",
      "Insert of existing embedding ID: 48aae275-6e5d-527b-b7bd-4f174b991326-ddl\n"
     ]
    },
    {
     "name": "stdout",
     "output_type": "stream",
     "text": [
      "Adding ddl: CREATE TABLE \"geolocation\" (\n",
      "\"geolocation_zip_code_prefix\" INTEGER,\n",
      "  \"geolocation_lat\" REAL,\n",
      "  \"geolocation_lng\" REAL,\n",
      "  \"geolocation_city\" TEXT,\n",
      "  \"geolocation_state\" TEXT\n",
      ")\n",
      "Adding ddl: CREATE TABLE \"order_items\" (\n",
      "\"order_id\" TEXT,\n",
      "  \"order_item_id\" INTEGER,\n",
      "  \"product_id\" TEXT,\n",
      "  \"seller_id\" TEXT,\n",
      "  \"shipping_limit_date\" TEXT,\n",
      "  \"price\" REAL,\n",
      "  \"freight_value\" REAL\n",
      ")\n"
     ]
    },
    {
     "name": "stderr",
     "output_type": "stream",
     "text": [
      "Add of existing embedding ID: 736b8496-e00e-5765-8ed6-018bd154f2b2-ddl\n",
      "Insert of existing embedding ID: 736b8496-e00e-5765-8ed6-018bd154f2b2-ddl\n",
      "Add of existing embedding ID: 828e1ae1-5034-5100-8760-cdbe75608786-ddl\n",
      "Insert of existing embedding ID: 828e1ae1-5034-5100-8760-cdbe75608786-ddl\n"
     ]
    },
    {
     "name": "stdout",
     "output_type": "stream",
     "text": [
      "Adding ddl: CREATE TABLE \"order_payments\" (\n",
      "\"order_id\" TEXT,\n",
      "  \"payment_sequential\" INTEGER,\n",
      "  \"payment_type\" TEXT,\n",
      "  \"payment_installments\" INTEGER,\n",
      "  \"payment_value\" REAL\n",
      ")\n",
      "Adding ddl: CREATE TABLE \"order_reviews\" (\n",
      "\"review_id\" TEXT,\n",
      "  \"order_id\" TEXT,\n",
      "  \"review_score\" INTEGER,\n",
      "  \"review_comment_title\" TEXT,\n",
      "  \"review_comment_message\" TEXT,\n",
      "  \"review_creation_date\" TEXT,\n",
      "  \"review_answer_timestamp\" TEXT\n",
      ")\n"
     ]
    },
    {
     "name": "stderr",
     "output_type": "stream",
     "text": [
      "Add of existing embedding ID: ae55fc73-d658-5a20-970c-693b702a987a-ddl\n",
      "Insert of existing embedding ID: ae55fc73-d658-5a20-970c-693b702a987a-ddl\n",
      "Add of existing embedding ID: bea44f99-dce6-5ebf-bea5-f6418654fae9-ddl\n",
      "Insert of existing embedding ID: bea44f99-dce6-5ebf-bea5-f6418654fae9-ddl\n"
     ]
    },
    {
     "name": "stdout",
     "output_type": "stream",
     "text": [
      "Adding ddl: CREATE TABLE \"orders\" (\n",
      "\"order_id\" TEXT,\n",
      "  \"customer_id\" TEXT,\n",
      "  \"order_status\" TEXT,\n",
      "  \"order_purchase_timestamp\" TEXT,\n",
      "  \"order_approved_at\" TEXT,\n",
      "  \"order_delivered_carrier_date\" TEXT,\n",
      "  \"order_delivered_customer_date\" TEXT,\n",
      "  \"order_estimated_delivery_date\" TEXT\n",
      ")\n",
      "Adding ddl: CREATE TABLE \"products\" (\n",
      "\"product_id\" TEXT,\n",
      "  \"product_category_name\" TEXT,\n",
      "  \"product_name_lenght\" REAL,\n",
      "  \"product_description_lenght\" REAL,\n",
      "  \"product_photos_qty\" REAL,\n",
      "  \"product_weight_g\" REAL,\n",
      "  \"product_length_cm\" REAL,\n",
      "  \"product_height_cm\" REAL,\n",
      "  \"product_width_cm\" REAL\n",
      ")\n"
     ]
    },
    {
     "name": "stderr",
     "output_type": "stream",
     "text": [
      "Add of existing embedding ID: bf006bda-9b22-5813-8194-b2af2ed866c6-ddl\n",
      "Insert of existing embedding ID: bf006bda-9b22-5813-8194-b2af2ed866c6-ddl\n",
      "Add of existing embedding ID: e1c2cfb8-a076-5be8-b371-5f34d7cf9f40-ddl\n",
      "Insert of existing embedding ID: e1c2cfb8-a076-5be8-b371-5f34d7cf9f40-ddl\n"
     ]
    },
    {
     "name": "stdout",
     "output_type": "stream",
     "text": [
      "Adding ddl: CREATE TABLE \"leads_qualified\" (\n",
      "\"mql_id\" TEXT,\n",
      "  \"first_contact_date\" TEXT,\n",
      "  \"landing_page_id\" TEXT,\n",
      "  \"origin\" TEXT\n",
      ")\n",
      "Adding ddl: CREATE TABLE \"leads_closed\" (\n",
      "\"mql_id\" TEXT,\n",
      "  \"seller_id\" TEXT,\n",
      "  \"sdr_id\" TEXT,\n",
      "  \"sr_id\" TEXT,\n",
      "  \"won_date\" TEXT,\n",
      "  \"business_segment\" TEXT,\n",
      "  \"lead_type\" TEXT,\n",
      "  \"lead_behaviour_profile\" TEXT,\n",
      "  \"has_company\" INTEGER,\n",
      "  \"has_gtin\" INTEGER,\n",
      "  \"average_stock\" TEXT,\n",
      "  \"business_type\" TEXT,\n",
      "  \"declared_product_catalog_size\" REAL,\n",
      "  \"declared_monthly_revenue\" REAL\n",
      ")\n"
     ]
    },
    {
     "name": "stderr",
     "output_type": "stream",
     "text": [
      "Add of existing embedding ID: 320bb1d2-32d4-538d-ad69-7eebe10372d5-ddl\n",
      "Insert of existing embedding ID: 320bb1d2-32d4-538d-ad69-7eebe10372d5-ddl\n"
     ]
    }
   ],
   "source": [
    "df_ddl = vn.run_sql(\"select type, sql from sqlite_master where sql is not null\")\n",
    "for ddl in df_ddl['sql'].to_list(): #This is going to get the schema of the tables present in the database and we are going to train on that\n",
    "    vn.train(ddl=ddl)"
   ]
  },
  {
   "cell_type": "code",
   "execution_count": 6,
   "id": "2722906c",
   "metadata": {},
   "outputs": [
    {
     "name": "stderr",
     "output_type": "stream",
     "text": [
      "Add of existing embedding ID: eff52ff1-2419-587f-8df9-c29da33b55f0-doc\n",
      "Insert of existing embedding ID: eff52ff1-2419-587f-8df9-c29da33b55f0-doc\n"
     ]
    },
    {
     "name": "stdout",
     "output_type": "stream",
     "text": [
      "Adding documentation....\n"
     ]
    },
    {
     "data": {
      "text/plain": [
       "'eff52ff1-2419-587f-8df9-c29da33b55f0-doc'"
      ]
     },
     "execution_count": 6,
     "metadata": {},
     "output_type": "execute_result"
    }
   ],
   "source": [
    "# Providing some documentation of the data\n",
    "vn.train(documentation = \"This is a comprehensive e-commerce dataset provided by Olist, a Brazilian e-commerce platform. The dataset contains information about orders, customers, products, and sellers, offering a rich source of data for analysis and insights generation.\")"
   ]
  },
  {
   "cell_type": "code",
   "execution_count": 7,
   "id": "b7b1b3cd",
   "metadata": {},
   "outputs": [
    {
     "name": "stdout",
     "output_type": "stream",
     "text": [
      "Info: Ollama parameters:\n",
      "model=llama3.1:latest,\n",
      "options={},\n",
      "keep_alive=None\n",
      "Info: Prompt Content:\n",
      "[{\"role\": \"system\", \"content\": \"The user will give you SQL and you will try to guess what the business question this query is answering. Return just the question without any additional explanation. Do not reference the table name in the question.\"}, {\"role\": \"user\", \"content\": \"SELECT customer_state,        COUNT(*) AS total_customers,        SUM(CASE WHEN order_status = 'delivered' THEN 0 ELSE 1 END) AS churned_customers FROM orders o JOIN customers c ON o.customer_id = c.customer_id GROUP BY customer_state\"}]\n"
     ]
    },
    {
     "name": "stderr",
     "output_type": "stream",
     "text": [
      "Add of existing embedding ID: ddf7175a-8d0f-5b73-a8df-a9482657dc5e-sql\n"
     ]
    },
    {
     "name": "stdout",
     "output_type": "stream",
     "text": [
      "Info: Ollama Response:\n",
      "model='llama3.1:latest' created_at='2024-12-03T05:25:37.451021Z' done=True done_reason='stop' total_duration=9108539917 load_duration=872205583 prompt_eval_count=110 prompt_eval_duration=7394000000 eval_count=17 eval_duration=510000000 message=Message(role='assistant', content='What percentage of customers in each state have had their last order canceled or returned?', images=None, tool_calls=None)\n",
      "Question generated with sql: What percentage of customers in each state have had their last order canceled or returned? \n",
      "Adding SQL...\n"
     ]
    },
    {
     "data": {
      "text/plain": [
       "'c04f15b7-83e8-5b64-aefd-44cfcc240b2a-sql'"
      ]
     },
     "execution_count": 7,
     "metadata": {},
     "output_type": "execute_result"
    }
   ],
   "source": [
    "vn.train(sql=\"SELECT customer_state, \\\n",
    "       COUNT(*) AS total_customers, \\\n",
    "       SUM(CASE WHEN order_status = 'delivered' THEN 0 ELSE 1 END) AS churned_customers FROM orders o JOIN customers c ON o.customer_id = c.customer_id GROUP BY customer_state\")"
   ]
  },
  {
   "cell_type": "code",
   "execution_count": 8,
   "id": "e5f7d26a",
   "metadata": {},
   "outputs": [
    {
     "data": {
      "text/html": [
       "<div>\n",
       "<style scoped>\n",
       "    .dataframe tbody tr th:only-of-type {\n",
       "        vertical-align: middle;\n",
       "    }\n",
       "\n",
       "    .dataframe tbody tr th {\n",
       "        vertical-align: top;\n",
       "    }\n",
       "\n",
       "    .dataframe thead th {\n",
       "        text-align: right;\n",
       "    }\n",
       "</style>\n",
       "<table border=\"1\" class=\"dataframe\">\n",
       "  <thead>\n",
       "    <tr style=\"text-align: right;\">\n",
       "      <th></th>\n",
       "      <th>id</th>\n",
       "      <th>question</th>\n",
       "      <th>content</th>\n",
       "      <th>training_data_type</th>\n",
       "    </tr>\n",
       "  </thead>\n",
       "  <tbody>\n",
       "    <tr>\n",
       "      <th>0</th>\n",
       "      <td>176ee690-6620-5d56-901a-319f42a46a0c-sql</td>\n",
       "      <td>What percentage of customers in each state hav...</td>\n",
       "      <td>SELECT customer_state,        COUNT(*) AS tota...</td>\n",
       "      <td>sql</td>\n",
       "    </tr>\n",
       "    <tr>\n",
       "      <th>1</th>\n",
       "      <td>906487d3-53a7-5f6f-b54f-af441243748b-sql</td>\n",
       "      <td>How many product categories are there?</td>\n",
       "      <td>SELECT COUNT(DISTINCT product_category_name) F...</td>\n",
       "      <td>sql</td>\n",
       "    </tr>\n",
       "    <tr>\n",
       "      <th>2</th>\n",
       "      <td>ddf7175a-8d0f-5b73-a8df-a9482657dc5e-sql</td>\n",
       "      <td>how many product categories are present</td>\n",
       "      <td>SELECT COUNT(DISTINCT product_category_name) F...</td>\n",
       "      <td>sql</td>\n",
       "    </tr>\n",
       "    <tr>\n",
       "      <th>3</th>\n",
       "      <td>63e9cbae-d59a-5e21-a7a8-3aa04a3e24d8-sql</td>\n",
       "      <td>how many product categories are present</td>\n",
       "      <td>SELECT product_category_name, COUNT(product_id...</td>\n",
       "      <td>sql</td>\n",
       "    </tr>\n",
       "    <tr>\n",
       "      <th>4</th>\n",
       "      <td>f3a67722-81df-5294-925c-9d97cdbfc57c-sql</td>\n",
       "      <td>how many product categories are present</td>\n",
       "      <td>SELECT customer_state, \\n       COUNT(*) AS to...</td>\n",
       "      <td>sql</td>\n",
       "    </tr>\n",
       "    <tr>\n",
       "      <th>5</th>\n",
       "      <td>e79c21e2-445c-5c42-ac57-3b1206a74a49-sql</td>\n",
       "      <td>Show me customers demographics</td>\n",
       "      <td>SELECT customer_state, COUNT(*) AS count FROM ...</td>\n",
       "      <td>sql</td>\n",
       "    </tr>\n",
       "    <tr>\n",
       "      <th>6</th>\n",
       "      <td>6f7e0e09-f6d2-5ad8-a3fb-922d29f1a034-sql</td>\n",
       "      <td>Calculate the average time taken to process or...</td>\n",
       "      <td>SELECT order_status,AVG(julianday(order_approv...</td>\n",
       "      <td>sql</td>\n",
       "    </tr>\n",
       "    <tr>\n",
       "      <th>7</th>\n",
       "      <td>c92e92d5-e306-5a92-bbf2-9e0114c6cd53-sql</td>\n",
       "      <td>Calculate the average time taken to process or...</td>\n",
       "      <td>SELECT order_status, AVG(julianday(order_appro...</td>\n",
       "      <td>sql</td>\n",
       "    </tr>\n",
       "    <tr>\n",
       "      <th>8</th>\n",
       "      <td>5bb9351e-52a6-54c5-aef3-1ede7d279e2e-sql</td>\n",
       "      <td>What is the trend of order count over time wit...</td>\n",
       "      <td>SELECT strftime('%Y-%m', order_purchase_timest...</td>\n",
       "      <td>sql</td>\n",
       "    </tr>\n",
       "    <tr>\n",
       "      <th>9</th>\n",
       "      <td>10d383ad-7886-571b-a55a-dc70db953daa-sql</td>\n",
       "      <td>Get me the list of orders whose feedback score...</td>\n",
       "      <td>SELECT order_id, review_score \\nFROM order_rev...</td>\n",
       "      <td>sql</td>\n",
       "    </tr>\n",
       "    <tr>\n",
       "      <th>10</th>\n",
       "      <td>e271e575-58ad-556c-890e-041fb6da824b-sql</td>\n",
       "      <td>What are the cancelled orders along with their...</td>\n",
       "      <td>SELECT o.order_id, o.order_status, r.review_co...</td>\n",
       "      <td>sql</td>\n",
       "    </tr>\n",
       "    <tr>\n",
       "      <th>11</th>\n",
       "      <td>f96185f6-4628-5d76-9f46-53bbe1f96692-sql</td>\n",
       "      <td>What are the cancelled orders along with their...</td>\n",
       "      <td>SELECT o.order_id, o.order_status, r.review_co...</td>\n",
       "      <td>sql</td>\n",
       "    </tr>\n",
       "    <tr>\n",
       "      <th>12</th>\n",
       "      <td>75aa5193-1eb6-5dd8-809b-6ef3a1670469-sql</td>\n",
       "      <td>how many product categories are present</td>\n",
       "      <td>SELECT COUNT(DISTINCT product_category_name) F...</td>\n",
       "      <td>sql</td>\n",
       "    </tr>\n",
       "    <tr>\n",
       "      <th>13</th>\n",
       "      <td>55b81a15-4bd1-54ed-b217-628d0240038e-sql</td>\n",
       "      <td>how many unique products are there overall?</td>\n",
       "      <td>SELECT COUNT(DISTINCT product_id) FROM products</td>\n",
       "      <td>sql</td>\n",
       "    </tr>\n",
       "    <tr>\n",
       "      <th>14</th>\n",
       "      <td>0e2956ef-2285-554c-84fd-31f647ed0f8c-sql</td>\n",
       "      <td>How may products are there related to home and...</td>\n",
       "      <td>SELECT product_category_name_translation.produ...</td>\n",
       "      <td>sql</td>\n",
       "    </tr>\n",
       "    <tr>\n",
       "      <th>15</th>\n",
       "      <td>a666f1b7-8555-502c-85f9-6b304ce9f10c-sql</td>\n",
       "      <td>What is the distribution of orders status</td>\n",
       "      <td>SELECT order_status, COUNT(*) AS total_orders ...</td>\n",
       "      <td>sql</td>\n",
       "    </tr>\n",
       "    <tr>\n",
       "      <th>16</th>\n",
       "      <td>c04f15b7-83e8-5b64-aefd-44cfcc240b2a-sql</td>\n",
       "      <td>What percentage of customers in each state hav...</td>\n",
       "      <td>SELECT customer_state,        COUNT(*) AS tota...</td>\n",
       "      <td>sql</td>\n",
       "    </tr>\n",
       "    <tr>\n",
       "      <th>0</th>\n",
       "      <td>2132c80d-07a5-53e8-adf5-f9564f042130-ddl</td>\n",
       "      <td>None</td>\n",
       "      <td>CREATE TABLE \"product_category_name_translatio...</td>\n",
       "      <td>ddl</td>\n",
       "    </tr>\n",
       "    <tr>\n",
       "      <th>1</th>\n",
       "      <td>d14c24c1-1f4e-5060-a169-994fa192ed9d-ddl</td>\n",
       "      <td>None</td>\n",
       "      <td>CREATE TABLE \"sellers\" (\\n\"seller_id\" TEXT,\\n ...</td>\n",
       "      <td>ddl</td>\n",
       "    </tr>\n",
       "    <tr>\n",
       "      <th>2</th>\n",
       "      <td>b6c9016c-e2ab-5aea-a11d-1864b700f785-ddl</td>\n",
       "      <td>None</td>\n",
       "      <td>CREATE TABLE \"customers\" (\\n\"customer_id\" TEXT...</td>\n",
       "      <td>ddl</td>\n",
       "    </tr>\n",
       "    <tr>\n",
       "      <th>3</th>\n",
       "      <td>48aae275-6e5d-527b-b7bd-4f174b991326-ddl</td>\n",
       "      <td>None</td>\n",
       "      <td>CREATE TABLE \"geolocation\" (\\n\"geolocation_zip...</td>\n",
       "      <td>ddl</td>\n",
       "    </tr>\n",
       "    <tr>\n",
       "      <th>4</th>\n",
       "      <td>736b8496-e00e-5765-8ed6-018bd154f2b2-ddl</td>\n",
       "      <td>None</td>\n",
       "      <td>CREATE TABLE \"order_items\" (\\n\"order_id\" TEXT,...</td>\n",
       "      <td>ddl</td>\n",
       "    </tr>\n",
       "    <tr>\n",
       "      <th>5</th>\n",
       "      <td>828e1ae1-5034-5100-8760-cdbe75608786-ddl</td>\n",
       "      <td>None</td>\n",
       "      <td>CREATE TABLE \"order_payments\" (\\n\"order_id\" TE...</td>\n",
       "      <td>ddl</td>\n",
       "    </tr>\n",
       "    <tr>\n",
       "      <th>6</th>\n",
       "      <td>ae55fc73-d658-5a20-970c-693b702a987a-ddl</td>\n",
       "      <td>None</td>\n",
       "      <td>CREATE TABLE \"order_reviews\" (\\n\"review_id\" TE...</td>\n",
       "      <td>ddl</td>\n",
       "    </tr>\n",
       "    <tr>\n",
       "      <th>7</th>\n",
       "      <td>bea44f99-dce6-5ebf-bea5-f6418654fae9-ddl</td>\n",
       "      <td>None</td>\n",
       "      <td>CREATE TABLE \"orders\" (\\n\"order_id\" TEXT,\\n  \"...</td>\n",
       "      <td>ddl</td>\n",
       "    </tr>\n",
       "    <tr>\n",
       "      <th>8</th>\n",
       "      <td>bf006bda-9b22-5813-8194-b2af2ed866c6-ddl</td>\n",
       "      <td>None</td>\n",
       "      <td>CREATE TABLE \"products\" (\\n\"product_id\" TEXT,\\...</td>\n",
       "      <td>ddl</td>\n",
       "    </tr>\n",
       "    <tr>\n",
       "      <th>9</th>\n",
       "      <td>e1c2cfb8-a076-5be8-b371-5f34d7cf9f40-ddl</td>\n",
       "      <td>None</td>\n",
       "      <td>CREATE TABLE \"leads_qualified\" (\\n\"mql_id\" TEX...</td>\n",
       "      <td>ddl</td>\n",
       "    </tr>\n",
       "    <tr>\n",
       "      <th>10</th>\n",
       "      <td>320bb1d2-32d4-538d-ad69-7eebe10372d5-ddl</td>\n",
       "      <td>None</td>\n",
       "      <td>CREATE TABLE \"leads_closed\" (\\n\"mql_id\" TEXT,\\...</td>\n",
       "      <td>ddl</td>\n",
       "    </tr>\n",
       "    <tr>\n",
       "      <th>0</th>\n",
       "      <td>eff52ff1-2419-587f-8df9-c29da33b55f0-doc</td>\n",
       "      <td>None</td>\n",
       "      <td>This is a comprehensive e-commerce dataset pro...</td>\n",
       "      <td>documentation</td>\n",
       "    </tr>\n",
       "  </tbody>\n",
       "</table>\n",
       "</div>"
      ],
      "text/plain": [
       "                                          id  \\\n",
       "0   176ee690-6620-5d56-901a-319f42a46a0c-sql   \n",
       "1   906487d3-53a7-5f6f-b54f-af441243748b-sql   \n",
       "2   ddf7175a-8d0f-5b73-a8df-a9482657dc5e-sql   \n",
       "3   63e9cbae-d59a-5e21-a7a8-3aa04a3e24d8-sql   \n",
       "4   f3a67722-81df-5294-925c-9d97cdbfc57c-sql   \n",
       "5   e79c21e2-445c-5c42-ac57-3b1206a74a49-sql   \n",
       "6   6f7e0e09-f6d2-5ad8-a3fb-922d29f1a034-sql   \n",
       "7   c92e92d5-e306-5a92-bbf2-9e0114c6cd53-sql   \n",
       "8   5bb9351e-52a6-54c5-aef3-1ede7d279e2e-sql   \n",
       "9   10d383ad-7886-571b-a55a-dc70db953daa-sql   \n",
       "10  e271e575-58ad-556c-890e-041fb6da824b-sql   \n",
       "11  f96185f6-4628-5d76-9f46-53bbe1f96692-sql   \n",
       "12  75aa5193-1eb6-5dd8-809b-6ef3a1670469-sql   \n",
       "13  55b81a15-4bd1-54ed-b217-628d0240038e-sql   \n",
       "14  0e2956ef-2285-554c-84fd-31f647ed0f8c-sql   \n",
       "15  a666f1b7-8555-502c-85f9-6b304ce9f10c-sql   \n",
       "16  c04f15b7-83e8-5b64-aefd-44cfcc240b2a-sql   \n",
       "0   2132c80d-07a5-53e8-adf5-f9564f042130-ddl   \n",
       "1   d14c24c1-1f4e-5060-a169-994fa192ed9d-ddl   \n",
       "2   b6c9016c-e2ab-5aea-a11d-1864b700f785-ddl   \n",
       "3   48aae275-6e5d-527b-b7bd-4f174b991326-ddl   \n",
       "4   736b8496-e00e-5765-8ed6-018bd154f2b2-ddl   \n",
       "5   828e1ae1-5034-5100-8760-cdbe75608786-ddl   \n",
       "6   ae55fc73-d658-5a20-970c-693b702a987a-ddl   \n",
       "7   bea44f99-dce6-5ebf-bea5-f6418654fae9-ddl   \n",
       "8   bf006bda-9b22-5813-8194-b2af2ed866c6-ddl   \n",
       "9   e1c2cfb8-a076-5be8-b371-5f34d7cf9f40-ddl   \n",
       "10  320bb1d2-32d4-538d-ad69-7eebe10372d5-ddl   \n",
       "0   eff52ff1-2419-587f-8df9-c29da33b55f0-doc   \n",
       "\n",
       "                                             question  \\\n",
       "0   What percentage of customers in each state hav...   \n",
       "1              How many product categories are there?   \n",
       "2             how many product categories are present   \n",
       "3             how many product categories are present   \n",
       "4             how many product categories are present   \n",
       "5                      Show me customers demographics   \n",
       "6   Calculate the average time taken to process or...   \n",
       "7   Calculate the average time taken to process or...   \n",
       "8   What is the trend of order count over time wit...   \n",
       "9   Get me the list of orders whose feedback score...   \n",
       "10  What are the cancelled orders along with their...   \n",
       "11  What are the cancelled orders along with their...   \n",
       "12            how many product categories are present   \n",
       "13        how many unique products are there overall?   \n",
       "14  How may products are there related to home and...   \n",
       "15          What is the distribution of orders status   \n",
       "16  What percentage of customers in each state hav...   \n",
       "0                                                None   \n",
       "1                                                None   \n",
       "2                                                None   \n",
       "3                                                None   \n",
       "4                                                None   \n",
       "5                                                None   \n",
       "6                                                None   \n",
       "7                                                None   \n",
       "8                                                None   \n",
       "9                                                None   \n",
       "10                                               None   \n",
       "0                                                None   \n",
       "\n",
       "                                              content training_data_type  \n",
       "0   SELECT customer_state,        COUNT(*) AS tota...                sql  \n",
       "1   SELECT COUNT(DISTINCT product_category_name) F...                sql  \n",
       "2   SELECT COUNT(DISTINCT product_category_name) F...                sql  \n",
       "3   SELECT product_category_name, COUNT(product_id...                sql  \n",
       "4   SELECT customer_state, \\n       COUNT(*) AS to...                sql  \n",
       "5   SELECT customer_state, COUNT(*) AS count FROM ...                sql  \n",
       "6   SELECT order_status,AVG(julianday(order_approv...                sql  \n",
       "7   SELECT order_status, AVG(julianday(order_appro...                sql  \n",
       "8   SELECT strftime('%Y-%m', order_purchase_timest...                sql  \n",
       "9   SELECT order_id, review_score \\nFROM order_rev...                sql  \n",
       "10  SELECT o.order_id, o.order_status, r.review_co...                sql  \n",
       "11  SELECT o.order_id, o.order_status, r.review_co...                sql  \n",
       "12  SELECT COUNT(DISTINCT product_category_name) F...                sql  \n",
       "13    SELECT COUNT(DISTINCT product_id) FROM products                sql  \n",
       "14  SELECT product_category_name_translation.produ...                sql  \n",
       "15  SELECT order_status, COUNT(*) AS total_orders ...                sql  \n",
       "16  SELECT customer_state,        COUNT(*) AS tota...                sql  \n",
       "0   CREATE TABLE \"product_category_name_translatio...                ddl  \n",
       "1   CREATE TABLE \"sellers\" (\\n\"seller_id\" TEXT,\\n ...                ddl  \n",
       "2   CREATE TABLE \"customers\" (\\n\"customer_id\" TEXT...                ddl  \n",
       "3   CREATE TABLE \"geolocation\" (\\n\"geolocation_zip...                ddl  \n",
       "4   CREATE TABLE \"order_items\" (\\n\"order_id\" TEXT,...                ddl  \n",
       "5   CREATE TABLE \"order_payments\" (\\n\"order_id\" TE...                ddl  \n",
       "6   CREATE TABLE \"order_reviews\" (\\n\"review_id\" TE...                ddl  \n",
       "7   CREATE TABLE \"orders\" (\\n\"order_id\" TEXT,\\n  \"...                ddl  \n",
       "8   CREATE TABLE \"products\" (\\n\"product_id\" TEXT,\\...                ddl  \n",
       "9   CREATE TABLE \"leads_qualified\" (\\n\"mql_id\" TEX...                ddl  \n",
       "10  CREATE TABLE \"leads_closed\" (\\n\"mql_id\" TEXT,\\...                ddl  \n",
       "0   This is a comprehensive e-commerce dataset pro...      documentation  "
      ]
     },
     "execution_count": 8,
     "metadata": {},
     "output_type": "execute_result"
    }
   ],
   "source": [
    "training_data = vn.get_training_data()\n",
    "training_data"
   ]
  },
  {
   "cell_type": "markdown",
   "id": "7cba13f1",
   "metadata": {},
   "source": [
    "## Asking section"
   ]
  },
  {
   "cell_type": "code",
   "execution_count": 9,
   "id": "b467c3b6",
   "metadata": {},
   "outputs": [],
   "source": [
    "from vanna.flask import VannaFlaskApp"
   ]
  },
  {
   "cell_type": "code",
   "execution_count": 10,
   "id": "0b386b02",
   "metadata": {},
   "outputs": [
    {
     "name": "stdout",
     "output_type": "stream",
     "text": [
      "Your app is running at:\n",
      "http://localhost:8084\n",
      " * Serving Flask app 'vanna.flask'\n",
      " * Debug mode: on\n",
      "huggingface/tokenizers: The current process just got forked, after parallelism has already been used. Disabling parallelism to avoid deadlocks...\n",
      "To disable this warning, you can either:\n",
      "\t- Avoid using `tokenizers` before the fork if possible\n",
      "\t- Explicitly set the environment variable TOKENIZERS_PARALLELISM=(true | false)\n"
     ]
    },
    {
     "name": "stderr",
     "output_type": "stream",
     "text": [
      "Number of requested results 10 is greater than number of elements in index 1, updating n_results = 1\n",
      "Number of requested results 10 is greater than number of elements in index 1, updating n_results = 1\n"
     ]
    }
   ],
   "source": [
    "app = VannaFlaskApp(vn,allow_llm_to_see_data=True)\n",
    "app.run()"
   ]
  },
  {
   "cell_type": "code",
   "execution_count": null,
   "id": "d100ae4c",
   "metadata": {},
   "outputs": [],
   "source": []
  }
 ],
 "metadata": {
  "kernelspec": {
   "display_name": "Python 3 (ipykernel)",
   "language": "python",
   "name": "python3"
  },
  "language_info": {
   "codemirror_mode": {
    "name": "ipython",
    "version": 3
   },
   "file_extension": ".py",
   "mimetype": "text/x-python",
   "name": "python",
   "nbconvert_exporter": "python",
   "pygments_lexer": "ipython3",
   "version": "3.9.12"
  }
 },
 "nbformat": 4,
 "nbformat_minor": 5
}
